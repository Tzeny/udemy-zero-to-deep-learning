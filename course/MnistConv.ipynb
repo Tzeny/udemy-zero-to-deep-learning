{
 "cells": [
  {
   "cell_type": "markdown",
   "metadata": {},
   "source": [
    "### Import libraries and load dataset"
   ]
  },
  {
   "cell_type": "code",
   "execution_count": 1,
   "metadata": {},
   "outputs": [
    {
     "name": "stderr",
     "output_type": "stream",
     "text": [
      "Using TensorFlow backend.\n"
     ]
    },
    {
     "data": {
      "text/plain": [
       "<matplotlib.image.AxesImage at 0x7f70a6dd8be0>"
      ]
     },
     "execution_count": 1,
     "metadata": {},
     "output_type": "execute_result"
    },
    {
     "data": {
      "image/png": "[encoded data removed]",
      "text/plain": [
       "<Figure size 432x288 with 1 Axes>"
      ]
     },
     "metadata": {},
     "output_type": "display_data"
    }
   ],
   "source": [
    "import pandas as pd\n",
    "import numpy as np\n",
    "%matplotlib inline\n",
    "import matplotlib.pyplot as plt\n",
    "\n",
    "from keras.datasets import mnist\n",
    "\n",
    "(X_train, y_train), (X_test, y_test) = mnist.load_data('/tmp/mnist.npz')\n",
    "\n",
    "plt.imshow(X_train[0], cmap='gray')"
   ]
  },
  {
   "cell_type": "code",
   "execution_count": 2,
   "metadata": {},
   "outputs": [
    {
     "data": {
      "image/png": "[encoded data removed]",
      "text/plain": [
       "<Figure size 432x288 with 1 Axes>"
      ]
     },
     "metadata": {},
     "output_type": "display_data"
    }
   ],
   "source": [
    "from keras.utils.np_utils import to_categorical\n",
    "\n",
    "X_train = X_train.reshape(-1,28,28,1)\n",
    "X_test = X_test.reshape(-1,28,28,1)\n",
    "\n",
    "y_train_cat = to_categorical(y_train)\n",
    "y_test_cat = to_categorical(y_test)\n",
    "\n",
    "y_train.shape\n",
    "\n",
    "plt.imshow(X_train[0,:,:,0], cmap='gray')\n",
    "i = 70"
   ]
  },
  {
   "cell_type": "markdown",
   "metadata": {},
   "source": [
    "### Build our model"
   ]
  },
  {
   "cell_type": "code",
   "execution_count": 10,
   "metadata": {},
   "outputs": [
    {
     "name": "stdout",
     "output_type": "stream",
     "text": [
      "_________________________________________________________________\n",
      "Layer (type)                 Output Shape              Param #   \n",
      "=================================================================\n",
      "conv2d_1 (Conv2D)            (None, 28, 28, 32)        320       \n",
      "_________________________________________________________________\n",
      "batch_normalization_1 (Batch (None, 28, 28, 32)        128       \n",
      "_________________________________________________________________\n",
      "average_pooling2d_1 (Average (None, 14, 14, 32)        0         \n",
      "_________________________________________________________________\n",
      "conv2d_2 (Conv2D)            (None, 14, 14, 64)        18496     \n",
      "_________________________________________________________________\n",
      "batch_normalization_2 (Batch (None, 14, 14, 64)        256       \n",
      "_________________________________________________________________\n",
      "average_pooling2d_2 (Average (None, 7, 7, 64)          0         \n",
      "_________________________________________________________________\n",
      "conv2d_3 (Conv2D)            (None, 7, 7, 128)         73856     \n",
      "_________________________________________________________________\n",
      "batch_normalization_3 (Batch (None, 7, 7, 128)         512       \n",
      "_________________________________________________________________\n",
      "average_pooling2d_3 (Average (None, 3, 3, 128)         0         \n",
      "_________________________________________________________________\n",
      "conv2d_4 (Conv2D)            (None, 1, 1, 256)         295168    \n",
      "_________________________________________________________________\n",
      "batch_normalization_4 (Batch (None, 1, 1, 256)         1024      \n",
      "_________________________________________________________________\n",
      "flatten_1 (Flatten)          (None, 256)               0         \n",
      "_________________________________________________________________\n",
      "dense_1 (Dense)              (None, 256)               65792     \n",
      "_________________________________________________________________\n",
      "batch_normalization_5 (Batch (None, 256)               1024      \n",
      "_________________________________________________________________\n",
      "dropout_1 (Dropout)          (None, 256)               0         \n",
      "_________________________________________________________________\n",
      "dense_2 (Dense)              (None, 128)               32896     \n",
      "_________________________________________________________________\n",
      "batch_normalization_6 (Batch (None, 128)               512       \n",
      "_________________________________________________________________\n",
      "dropout_2 (Dropout)          (None, 128)               0         \n",
      "_________________________________________________________________\n",
      "dense_3 (Dense)              (None, 64)                8256      \n",
      "_________________________________________________________________\n",
      "batch_normalization_7 (Batch (None, 64)                256       \n",
      "_________________________________________________________________\n",
      "dropout_3 (Dropout)          (None, 64)                0         \n",
      "_________________________________________________________________\n",
      "dense_4 (Dense)              (None, 10)                650       \n",
      "=================================================================\n",
      "Total params: 499,146\n",
      "Trainable params: 497,290\n",
      "Non-trainable params: 1,856\n",
      "_________________________________________________________________\n"
     ]
    }
   ],
   "source": [
    "from keras.layers import Flatten, Activation, Conv2D, MaxPool2D, AvgPool2D, Dense, Dropout, BatchNormalization\n",
    "from keras.optimizers import Adam, SGD\n",
    "from keras.models import Sequential\n",
    "import keras.backend as K\n",
    "from keras.callbacks import EarlyStopping, ModelCheckpoint, TensorBoard\n",
    "\n",
    "i=i+1\n",
    "\n",
    "K.clear_session()\n",
    "\n",
    "a = EarlyStopping(monitor='val_acc', min_delta=0, patience=5, verbose=1, mode='auto')#will stop the model if val_loss does not improve for 2 consecutive epochs\n",
    "b = ModelCheckpoint(monitor='val_acc', filepath='../models/course6-'+str(i)+'.hdf5', verbose=1, save_best_only=True)#save model weights after each epoch if val_loss improves\n",
    "c = TensorBoard(log_dir='./mnist-conv-logs/conv-1layer-'+str(i))#saves a log file for tensorboard; remember to save different runs to different subdirectories\n",
    "callbacks=[a,b,c]\n",
    "\n",
    "epochs = 25\n",
    "lrate = 0.01\n",
    "decay = lrate/epochs\n",
    "sgd = SGD(lr=lrate, momentum=0.9, decay=decay, nesterov=False)\n",
    "regularization = 'l1'\n",
    "\n",
    "model = Sequential()\n",
    "\n",
    "model.add(Conv2D(32, (3, 3), input_shape=(28, 28, 1), padding='same', activation='relu', kernel_regularizer=regularization))\n",
    "model.add(BatchNormalization())\n",
    "model.add(AvgPool2D(pool_size=(2, 2)))\n",
    "\n",
    "model.add(Conv2D(64, (3, 3), padding='same', activation='relu', kernel_regularizer=regularization))\n",
    "model.add(BatchNormalization())\n",
    "model.add(AvgPool2D(pool_size=(2, 2)))\n",
    "\n",
    "model.add(Conv2D(128, (3, 3), padding='same', activation='relu', kernel_regularizer=regularization))\n",
    "model.add(BatchNormalization())\n",
    "model.add(AvgPool2D(pool_size=(2, 2)))\n",
    "\n",
    "model.add(Conv2D(256, (3,3), padding='valid', activation='relu', kernel_regularizer=regularization))\n",
    "model.add(BatchNormalization())\n",
    "\n",
    "model.add(Flatten())\n",
    "\n",
    "model.add(Dense(256, activation='relu', kernel_regularizer=regularization))\n",
    "model.add(BatchNormalization())\n",
    "model.add(Dropout(0.5))\n",
    "model.add(Dense(128, activation='relu', kernel_regularizer=regularization))\n",
    "model.add(BatchNormalization())\n",
    "model.add(Dropout(0.5))\n",
    "model.add(Dense(64, activation='relu', kernel_regularizer=regularization))\n",
    "model.add(BatchNormalization())\n",
    "model.add(Dropout(0.5))\n",
    "model.add(Dense(10, activation='softmax', kernel_regularizer=regularization))\n",
    "\n",
    "model.compile(loss='categorical_crossentropy',\n",
    "              optimizer=sgd,\n",
    "              metrics=['accuracy'])\n",
    "\n",
    "model.summary()"
   ]
  },
  {
   "cell_type": "markdown",
   "metadata": {},
   "source": [
    "Model type | Test accuracy\n",
    "  ------------- | -------------\n",
    "  2 conv layers w dropout  | 98.66%, 98.71%\n",
    "  2 conv layers w dropout w 2 dense | , 98.67 %\n",
    "  2 conv layers  w/o dropout | 98.60%, 98.59 %\n",
    "  1 conv layer w dropout | 97.65 %\n",
    "  4 conv layer w dropout | 98.8 % , 98.36 %\n",
    "  3 conv layer w dropout | 98.95 % , 98.99 %\n",
    "  3 conv layer w dropout w 2 dense rmsprop| 98.82 % , 98.72 %, \n",
    "  3 conv layer w dropout w 2 dense sgd| 99 %\n",
    "  3 conv layer w/o dropout w 2 dense sgd|99.0 %\n",
    "  3 conv layer dense drop dense drop dense sgd|99.11 %, 99.0 %, 99.11 %\n",
    "  4 conv layer dense drop dense drop dense sgd|99.14 %, 98.92 %\n",
    "  4 conv layer dense drop dense drop dense sgd (with activations right after conv layers)|99.36 %, 99.28 %\n",
    "  4 conv w act dsn dr dsn dr dsn sgd (w batch normalization)|99.58 %,  99.39 %, 99.33 %\n",
    "  4 conv w act dsn dr dsn dr dsn dr sgd (w batch normalization)|99.35 %, 98.94 %\n",
    "  4 conv w act dsn dr dsn dr dsn dr sgd (w batch normalization + l2 regularization)|97.34 %, 98.68 %\n",
    "  4 conv w act dsn dr dsn dr dsn dr sgd (w batch normalization + l1 regularization)|87.51 %, 79.44 %"
   ]
  },
  {
   "cell_type": "code",
   "execution_count": 11,
   "metadata": {},
   "outputs": [
    {
     "name": "stdout",
     "output_type": "stream",
     "text": [
      "Train on 48000 samples, validate on 12000 samples\n",
      "Epoch 1/100\n",
      "48000/48000 [==============================] - 9s 185us/step - loss: 19.9429 - acc: 0.8206 - val_loss: 4.6545 - val_acc: 0.5884\n",
      "\n",
      "Epoch 00001: val_acc improved from -inf to 0.58842, saving model to ../models/course6-75.hdf5\n",
      "Epoch 2/100\n",
      "48000/48000 [==============================] - 8s 164us/step - loss: 3.1074 - acc: 0.9014 - val_loss: 3.0711 - val_acc: 0.8545\n",
      "\n",
      "Epoch 00002: val_acc improved from 0.58842 to 0.85450, saving model to ../models/course6-75.hdf5\n",
      "Epoch 3/100\n",
      "48000/48000 [==============================] - 8s 167us/step - loss: 2.6608 - acc: 0.9109 - val_loss: 3.0504 - val_acc: 0.7473\n",
      "\n",
      "Epoch 00003: val_acc did not improve from 0.85450\n",
      "Epoch 4/100\n",
      "48000/48000 [==============================] - 8s 165us/step - loss: 2.4313 - acc: 0.9159 - val_loss: 2.5569 - val_acc: 0.8807\n",
      "\n",
      "Epoch 00004: val_acc improved from 0.85450 to 0.88067, saving model to ../models/course6-75.hdf5\n",
      "Epoch 5/100\n",
      "48000/48000 [==============================] - 8s 162us/step - loss: 2.2866 - acc: 0.9188 - val_loss: 2.1988 - val_acc: 0.9230\n",
      "\n",
      "Epoch 00005: val_acc improved from 0.88067 to 0.92300, saving model to ../models/course6-75.hdf5\n",
      "Epoch 6/100\n",
      "48000/48000 [==============================] - 8s 160us/step - loss: 2.1920 - acc: 0.9227 - val_loss: 2.5254 - val_acc: 0.8077\n",
      "\n",
      "Epoch 00006: val_acc did not improve from 0.92300\n",
      "Epoch 7/100\n",
      "48000/48000 [==============================] - 8s 161us/step - loss: 2.0624 - acc: 0.9267 - val_loss: 2.4847 - val_acc: 0.7525\n",
      "\n",
      "Epoch 00007: val_acc did not improve from 0.92300\n",
      "Epoch 8/100\n",
      "48000/48000 [==============================] - 8s 160us/step - loss: 1.9770 - acc: 0.9293 - val_loss: 2.2506 - val_acc: 0.8114\n",
      "\n",
      "Epoch 00008: val_acc did not improve from 0.92300\n",
      "Epoch 9/100\n",
      "48000/48000 [==============================] - 8s 160us/step - loss: 1.9207 - acc: 0.9301 - val_loss: 1.8961 - val_acc: 0.9095\n",
      "\n",
      "Epoch 00009: val_acc did not improve from 0.92300\n",
      "Epoch 10/100\n",
      "48000/48000 [==============================] - 8s 160us/step - loss: 1.8441 - acc: 0.9318 - val_loss: 2.6042 - val_acc: 0.8017\n",
      "\n",
      "Epoch 00010: val_acc did not improve from 0.92300\n",
      "Epoch 00010: early stopping\n",
      "10000/10000 [==============================] - 1s 116us/step\n",
      "Accuracy on test set:  79.44 %\n"
     ]
    }
   ],
   "source": [
    "model.fit(X_train, y_train_cat, batch_size=128, epochs=100, validation_split=0.2,verbose=1,callbacks=callbacks)  # starts training\n",
    "\n",
    "result = model.evaluate(X_test, y_test_cat)\n",
    "\n",
    "print(\"Accuracy on test set: \",result[1]*100,\"%\")\n"
   ]
  },
  {
   "cell_type": "code",
   "execution_count": 14,
   "metadata": {},
   "outputs": [
    {
     "name": "stdout",
     "output_type": "stream",
     "text": [
      "__________________________________________________________________________________________________\n",
      "Layer (type)                    Output Shape         Param #     Connected to                     \n",
      "==================================================================================================\n",
      "input_1 (InputLayer)            (None, 28, 28, 1)    0                                            \n",
      "__________________________________________________________________________________________________\n",
      "conv2d_1 (Conv2D)               (None, 28, 28, 16)   32          input_1[0][0]                    \n",
      "__________________________________________________________________________________________________\n",
      "conv2d_3 (Conv2D)               (None, 28, 28, 16)   32          input_1[0][0]                    \n",
      "__________________________________________________________________________________________________\n",
      "max_pooling2d_1 (MaxPooling2D)  (None, 28, 28, 1)    0           input_1[0][0]                    \n",
      "__________________________________________________________________________________________________\n",
      "conv2d_2 (Conv2D)               (None, 28, 28, 16)   2320        conv2d_1[0][0]                   \n",
      "__________________________________________________________________________________________________\n",
      "conv2d_4 (Conv2D)               (None, 28, 28, 16)   6416        conv2d_3[0][0]                   \n",
      "__________________________________________________________________________________________________\n",
      "conv2d_5 (Conv2D)               (None, 28, 28, 16)   32          max_pooling2d_1[0][0]            \n",
      "__________________________________________________________________________________________________\n",
      "concatenate_1 (Concatenate)     (None, 28, 28, 48)   0           conv2d_2[0][0]                   \n",
      "                                                                 conv2d_4[0][0]                   \n",
      "                                                                 conv2d_5[0][0]                   \n",
      "__________________________________________________________________________________________________\n",
      "conv2d_6 (Conv2D)               (None, 28, 28, 96)   41568       concatenate_1[0][0]              \n",
      "__________________________________________________________________________________________________\n",
      "max_pooling2d_2 (MaxPooling2D)  (None, 14, 14, 96)   0           conv2d_6[0][0]                   \n",
      "__________________________________________________________________________________________________\n",
      "conv2d_7 (Conv2D)               (None, 14, 14, 192)  166080      max_pooling2d_2[0][0]            \n",
      "__________________________________________________________________________________________________\n",
      "max_pooling2d_3 (MaxPooling2D)  (None, 7, 7, 192)    0           conv2d_7[0][0]                   \n",
      "__________________________________________________________________________________________________\n",
      "flatten_1 (Flatten)             (None, 9408)         0           max_pooling2d_3[0][0]            \n",
      "__________________________________________________________________________________________________\n",
      "dense_1 (Dense)                 (None, 128)          1204352     flatten_1[0][0]                  \n",
      "__________________________________________________________________________________________________\n",
      "dropout_1 (Dropout)             (None, 128)          0           dense_1[0][0]                    \n",
      "__________________________________________________________________________________________________\n",
      "dense_2 (Dense)                 (None, 10)           1290        dropout_1[0][0]                  \n",
      "==================================================================================================\n",
      "Total params: 1,422,122\n",
      "Trainable params: 1,422,122\n",
      "Non-trainable params: 0\n",
      "__________________________________________________________________________________________________\n"
     ]
    }
   ],
   "source": [
    "from keras.layers import Input, MaxPooling2D, Flatten, Activation, Conv2D, AvgPool2D, Dense, Dropout\n",
    "from keras.optimizers import SGD\n",
    "import keras\n",
    "from keras.models import Model\n",
    "from keras.callbacks import EarlyStopping, ModelCheckpoint, TensorBoard\n",
    "import keras.backend as K\n",
    "\n",
    "\n",
    "i=i+1\n",
    "\n",
    "a = EarlyStopping(monitor='val_acc', min_delta=0, patience=5, verbose=1, mode='auto')#will stop the model if val_loss does not improve for 2 consecutive epochs\n",
    "b = ModelCheckpoint(monitor='val_acc', filepath='../models/course6-mnist-inception-'+str(i)+'.hdf5', verbose=1, save_best_only=True)#save model weights after each epoch if val_loss improves\n",
    "c = TensorBoard(log_dir='./mnist-conv-logs/mnist-inception-'+str(i))#saves a log file for tensorboard; remember to save different runs to different subdirectories\n",
    "callbacks=[a,b,c]\n",
    "\n",
    "K.clear_session()\n",
    "\n",
    "epochs = 25\n",
    "lrate = 0.01\n",
    "decay = lrate/epochs\n",
    "sgd = SGD(lr=lrate, momentum=0.9, decay=decay, nesterov=False)\n",
    "\n",
    "input_img = Input(shape = (28, 28, 1))\n",
    "\n",
    "tower_1 = Conv2D(16, (1,1), padding='same', activation='relu')(input_img)\n",
    "tower_1 = Conv2D(16, (3,3), padding='same', activation='relu')(tower_1)\n",
    "\n",
    "tower_2 = Conv2D(16, (1,1), padding='same', activation='relu')(input_img)\n",
    "tower_2 = Conv2D(16, (5,5), padding='same', activation='relu')(tower_2)\n",
    "\n",
    "tower_3 = MaxPooling2D((3,3), strides=(1,1), padding='same')(input_img)\n",
    "tower_3 = Conv2D(16, (1,1), padding='same', activation='relu')(tower_3)\n",
    "\n",
    "output = keras.layers.concatenate([tower_1, tower_2, tower_3], axis = 3)\n",
    "\n",
    "conv_1 = Conv2D(96, (3,3), padding='same', activation='relu')(output)\n",
    "pool_1 = MaxPooling2D((2,2),padding='same')(conv_1)\n",
    "\n",
    "conv_2 = Conv2D(192, (3,3), padding='same', activation='relu')(pool_1)\n",
    "pool_2 = MaxPooling2D((2,2),padding='same')(conv_2)\n",
    "\n",
    "output = Flatten()(pool_2)\n",
    "\n",
    "dense = Dense(128)(output)\n",
    "\n",
    "drop = Dropout(0.5)(dense)\n",
    "\n",
    "out    = Dense(10, activation='softmax')(drop)\n",
    "\n",
    "model = Model(inputs = input_img, outputs = out)\n",
    "\n",
    "model.compile(loss='categorical_crossentropy', optimizer='rmsprop', metrics=['accuracy'])\n",
    "\n",
    "model.summary()"
   ]
  },
  {
   "cell_type": "code",
   "execution_count": 15,
   "metadata": {
    "scrolled": true
   },
   "outputs": [
    {
     "name": "stdout",
     "output_type": "stream",
     "text": [
      "Train on 48000 samples, validate on 12000 samples\n",
      "Epoch 1/100\n",
      "48000/48000 [==============================] - 18s 378us/step - loss: 14.4768 - acc: 0.1017 - val_loss: 14.4499 - val_acc: 0.1035\n",
      "\n",
      "Epoch 00001: val_acc improved from -inf to 0.10350, saving model to ../models/course6-mnist-inception-16.hdf5\n",
      "Epoch 2/100\n",
      "48000/48000 [==============================] - 18s 374us/step - loss: 14.4757 - acc: 0.1019 - val_loss: 14.4499 - val_acc: 0.1035\n",
      "\n",
      "Epoch 00002: val_acc did not improve from 0.10350\n",
      "Epoch 3/100\n",
      "48000/48000 [==============================] - 18s 374us/step - loss: 14.4764 - acc: 0.1019 - val_loss: 14.4499 - val_acc: 0.1035\n",
      "\n",
      "Epoch 00003: val_acc did not improve from 0.10350\n",
      "Epoch 4/100\n",
      "48000/48000 [==============================] - 18s 376us/step - loss: 14.4761 - acc: 0.1019 - val_loss: 14.4499 - val_acc: 0.1035\n",
      "\n",
      "Epoch 00004: val_acc did not improve from 0.10350\n",
      "Epoch 5/100\n",
      "48000/48000 [==============================] - 18s 376us/step - loss: 14.4764 - acc: 0.1019 - val_loss: 14.4499 - val_acc: 0.1035\n",
      "\n",
      "Epoch 00005: val_acc did not improve from 0.10350\n",
      "Epoch 6/100\n",
      "48000/48000 [==============================] - 18s 377us/step - loss: 14.4764 - acc: 0.1019 - val_loss: 14.4499 - val_acc: 0.1035\n",
      "\n",
      "Epoch 00006: val_acc did not improve from 0.10350\n",
      "Epoch 00006: early stopping\n",
      "10000/10000 [==============================] - 2s 210us/step\n",
      "Accuracy on test set:  10.100000000000001 %\n"
     ]
    }
   ],
   "source": [
    "model.fit(X_train, y_train_cat, batch_size=128, epochs=100, validation_split=0.2,verbose=1,callbacks=callbacks)  # starts training\n",
    "\n",
    "result = model.evaluate(X_test, y_test_cat)\n",
    "\n",
    "print(\"Accuracy on test set: \",result[1]*100,\"%\")"
   ]
  },
  {
   "cell_type": "code",
   "execution_count": null,
   "metadata": {},
   "outputs": [],
   "source": []
  }
 ],
 "metadata": {
  "kernelspec": {
   "display_name": "jupyter3_Python_3",
   "language": "python",
   "name": "jupyter3_python_3"
  },
  "language_info": {
   "codemirror_mode": {
    "name": "ipython",
    "version": 3
   },
   "file_extension": ".py",
   "mimetype": "text/x-python",
   "name": "python",
   "nbconvert_exporter": "python",
   "pygments_lexer": "ipython3",
   "version": "3.6.5"
  }
 },
 "nbformat": 4,
 "nbformat_minor": 2
}
